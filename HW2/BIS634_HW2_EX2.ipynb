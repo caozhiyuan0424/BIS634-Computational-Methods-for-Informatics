{
 "cells": [
  {
   "cell_type": "markdown",
   "metadata": {},
   "source": [
    "# Exercise 2"
   ]
  },
  {
   "cell_type": "code",
   "execution_count": 45,
   "metadata": {},
   "outputs": [],
   "source": [
    "import bitarray\n",
    "from hashlib import sha3_256, sha256, blake2b\n",
    "import json\n",
    "import matplotlib.pyplot as plt\n",
    "import numpy as np\n",
    "\n",
    "class Zhiyuan_BloomFilter():\n",
    "    \n",
    "    def __init__(self, size=int(1e7)):\n",
    "        self._size = size\n",
    "        self._data = bitarray.bitarray(size)\n",
    "        self._data.setall(0)\n",
    "        self.hash_tuple = (self.my_hash, self.my_hash2, self.my_hash3)\n",
    "        \n",
    "    def debug(self):\n",
    "        return self._data\n",
    "    \n",
    "    def change_hash_tuple(self, *hash_func):\n",
    "        self.hash_tuple = hash_func\n",
    "    \n",
    "    def clear_all(self):\n",
    "        self._data.setall(0)\n",
    "        \n",
    "    def exist_or_not(self, element):\n",
    "        posi_list = self.find_position(element)\n",
    "        test_idf = True\n",
    "        for p in posi_list:\n",
    "            test_idf = self._data[p] and test_idf\n",
    "        return test_idf\n",
    "        \n",
    "    def add_element(self, element):\n",
    "        posi_list = self.find_position(element)\n",
    "        for p in posi_list:\n",
    "            self._data[p] = 1\n",
    "    \n",
    "    def find_position(self, element):\n",
    "        position_list = []\n",
    "        for hash_func in self.hash_tuple:\n",
    "            position_list.append(hash_func(element))\n",
    "        return position_list\n",
    "    \n",
    "    def my_hash(self, s):\n",
    "        return int(sha256(s.lower().encode()).hexdigest(), 16) % self._size\n",
    "    \n",
    "    def my_hash2(self, s):\n",
    "        return int(blake2b(s.lower().encode()).hexdigest(), 16) % self._size\n",
    "\n",
    "    def my_hash3(self, s):\n",
    "        return int(sha3_256(s.lower().encode()).hexdigest(), 16) % self._size\n",
    "\n",
    "    \n",
    "\n",
    "class Spell_check():\n",
    "    \n",
    "    def __init__(self, size=int(1e7), hash_usage='111', file='words.txt'):\n",
    "        self.BFt = Zhiyuan_BloomFilter(size)\n",
    "        if hash_usage =='100':\n",
    "            self.BFt.change_hash_tuple(self.BFt.my_hash)\n",
    "        elif hash_usage =='110':\n",
    "            self.BFt.change_hash_tuple(self.BFt.my_hash, self.BFt.my_hash2)\n",
    "        with open(file) as f:\n",
    "            for line in f:\n",
    "                word = line.strip()\n",
    "                self.BFt.add_element(word)\n",
    "    \n",
    "    def potential_suggestion(self, word):\n",
    "        output_list = [word]\n",
    "        word_split = list(word)\n",
    "        for i in range(len(word_split)):\n",
    "            word_temp = word_split.copy()\n",
    "            if (word_split[i].isupper()):\n",
    "                for j in range(65, 91):\n",
    "                    word_temp[i] = chr(j)\n",
    "                    output_list.append(\"\".join(word_temp))\n",
    "            elif (word_split[i].islower()):\n",
    "                for j in range(97, 123):\n",
    "                    word_temp[i] = chr(j)\n",
    "                    output_list.append(\"\".join(word_temp))\n",
    "        # Delete the duplicate elements while keeping the order unchanged \n",
    "        output_list_nodup = list(set(output_list))\n",
    "        output_list_nodup.sort(key=output_list.index)\n",
    "        return output_list_nodup\n",
    "    \n",
    "    def give_suggestion(self, word):\n",
    "        #print(self.BFt.debug())\n",
    "        output_list = []\n",
    "        Lreplacement_list = self.potential_suggestion(word)\n",
    "        for item in Lreplacement_list:\n",
    "            if self.BFt.exist_or_not(item):\n",
    "                output_list.append(item)\n",
    "        return output_list\n",
    "    \n",
    "    def test_accuracy(self, file='typos.json'):\n",
    "        with open(file,'r') as f:\n",
    "            load_dict = json.load(f)\n",
    "        count = 0\n",
    "        correct = 0\n",
    "        for word_list in load_dict:\n",
    "            if (word_list[0] != word_list[1]):\n",
    "                ans = sp.give_suggestion(word_list[0])\n",
    "                count += 1\n",
    "                if (len(ans) <= 3 and word_list[1] in ans):\n",
    "                    correct += 1\n",
    "        return correct/count"
   ]
  },
  {
   "cell_type": "code",
   "execution_count": 3,
   "metadata": {},
   "outputs": [
    {
     "name": "stdout",
     "output_type": "stream",
     "text": [
      "False\n",
      "True\n",
      "False\n",
      "True\n"
     ]
    }
   ],
   "source": [
    "bloomtest = Zhiyuan_BloomFilter()\n",
    "bloomtest.change_hash_tuple(bloomtest.my_hash, bloomtest.my_hash2)\n",
    "print(bloomtest.exist_or_not('bloeer')) # False\n",
    "bloomtest.add_element('bloeer')\n",
    "print(bloomtest.exist_or_not('bloeer')) # True\n",
    "print(bloomtest.exist_or_not('bloeerasd')) # False\n",
    "bloomtest.add_element('apple')\n",
    "print(bloomtest.exist_or_not('apple')) # True"
   ]
  },
  {
   "cell_type": "code",
   "execution_count": 256,
   "metadata": {
    "scrolled": true
   },
   "outputs": [
    {
     "name": "stdout",
     "output_type": "stream",
     "text": [
      "When using the first hash function, suggestion of 'floeer' is: ['bloeer', 'qloeer', 'fyoeer', 'flofer', 'floter', 'flower', 'floeqr', 'floees']\n",
      "-------------------------------------------------------------------------------------------------------------------\n",
      "When using the first and second hash function, suggestion of 'floeer' is: ['fyoeer', 'floter', 'flower']\n",
      "-------------------------------------------------------------------------------------------------------------------\n",
      "When using all three hash functions, suggestion of 'floeer' is: ['floter', 'flower']\n"
     ]
    }
   ],
   "source": [
    "sp = Spell_check(hash_usage='100') # The default size is 1e7\n",
    "print(\"When using the first hash function, suggestion of 'floeer' is:\", sp.give_suggestion('floeer'))\n",
    "print(\"-\"*115)\n",
    "sp = Spell_check(hash_usage='110') \n",
    "print(\"When using the first and second hash function, suggestion of 'floeer' is:\", sp.give_suggestion('floeer'))\n",
    "print(\"-\"*115)\n",
    "sp = Spell_check(hash_usage='111') \n",
    "print(\"When using all three hash functions, suggestion of 'floeer' is:\", sp.give_suggestion('floeer'))"
   ]
  },
  {
   "cell_type": "code",
   "execution_count": 32,
   "metadata": {},
   "outputs": [
    {
     "name": "stdout",
     "output_type": "stream",
     "text": [
      "Good suggestion rate: 90.12%\n"
     ]
    }
   ],
   "source": [
    "# Collect the number of \"good suggestions\"\n",
    "sp = Spell_check(hash_usage='100', size=int(1.71e8))\n",
    "print(f\"Good suggestion rate: {sp.test_accuracy()*100}%\")"
   ]
  },
  {
   "cell_type": "code",
   "execution_count": 87,
   "metadata": {},
   "outputs": [
    {
     "name": "stdout",
     "output_type": "stream",
     "text": [
      "Good suggestion rate: 90.064%\n"
     ]
    }
   ],
   "source": [
    "# Collect the number of \"good suggestions\"\n",
    "sp = Spell_check(hash_usage='110', size=int(1.75e7))\n",
    "print(f\"Good suggestion rate: {sp.test_accuracy()*100}%\")"
   ]
  },
  {
   "cell_type": "code",
   "execution_count": 84,
   "metadata": {},
   "outputs": [
    {
     "data": {
      "image/png": "[encoded data removed]",
      "text/plain": [
       "<Figure size 1440x720 with 1 Axes>"
      ]
     },
     "metadata": {
      "needs_background": "light"
     },
     "output_type": "display_data"
    }
   ],
   "source": [
    "x1 = [1e6, 5e6, 8e6, 9e6, 1e7, 3e7, 4e7, 5e7, 6e7, 8e7, 1e8, 1.71e8, 3e8, 5e8, 1e9, 1e10]\n",
    "y1 = [0, 0, 0.2, 0.316, 0.516, 26.92, 42.67, 54.82, 64.12, 75.90, 81.72, 90.12, 93.26, 94.09, 94.52, 94.81]\n",
    "x2 = [1e6, 5e6, 6e6, 7e6, 8e6, 9e6, 1e7, 1.1e7, 1.2e7, 1.3e7, 1.5e7, 2e7, 3e7, 1e8, 1e10]\n",
    "y2 = [0, 4.676, 13.96, 26.98, 40.36, 52.54, 63.06, 70.70, 76.95, 80.68, 86.57, 92.00, 94.26, 94.83, 94.86]\n",
    "x3 = [1e6, 4e6, 4.5e6, 4.8e6, 5e6, 5.5e6, 5.8e6, 6e6, 6.8e6, 7.4e6, 8e6, 9e6, 1e7, 5e7, 1e8, 1e10]\n",
    "y3 = [0, 7.396, 16.97, 25.28, 30.64, 43.53, 51.82, 56.73, 71.87, 79.12, 84.14, 89.12, 91.85, 94.84, 94.86, 94.86]\n",
    "plt.figure(figsize=(20,10))\n",
    "#plt.plot(np.log(x1), y1,label='Hash Func 1')\n",
    "#plt.plot(np.log(x2), y2,label='Hash Func 1,2')\n",
    "#plt.plot(np.log(x3), y3,label='Hash Func 1,2,3')\n",
    "plt.plot(x1, y1,label='Hash Func 1')\n",
    "plt.plot(x2, y2,label='Hash Func 1,2')\n",
    "plt.plot(x3, y3,label='Hash Func 1,2,3')\n",
    "plt.ylim([0, 100])\n",
    "plt.xticks(fontsize=15)\n",
    "plt.yticks(fontsize=15)\n",
    "plt.legend(fontsize=15)\n",
    "plt.xlabel('Number of bits in Bloom Filter in logarithm scale (e^x)', fontsize=15)\n",
    "plt.ylabel('Proportion of \"good suggestions\"', fontsize=15)\n",
    "plt.title('The effect of the size of the filter & choice of Hash Function vs. Proportion of good suggestions', fontsize=15)\n",
    "plt.savefig('README_img/EX2_3.png')\n",
    "plt.show()"
   ]
  },
  {
   "cell_type": "code",
   "execution_count": null,
   "metadata": {},
   "outputs": [],
   "source": []
  }
 ],
 "metadata": {
  "kernelspec": {
   "display_name": "Python 3",
   "language": "python",
   "name": "python3"
  },
  "language_info": {
   "codemirror_mode": {
    "name": "ipython",
    "version": 3
   },
   "file_extension": ".py",
   "mimetype": "text/x-python",
   "name": "python",
   "nbconvert_exporter": "python",
   "pygments_lexer": "ipython3",
   "version": "3.7.4"
  }
 },
 "nbformat": 4,
 "nbformat_minor": 2
}
