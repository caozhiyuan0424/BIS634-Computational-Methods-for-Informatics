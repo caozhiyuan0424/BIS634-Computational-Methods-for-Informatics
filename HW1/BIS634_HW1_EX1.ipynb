{
 "cells": [
  {
   "cell_type": "markdown",
   "metadata": {},
   "source": [
    "# Exercise 1"
   ]
  },
  {
   "cell_type": "code",
   "execution_count": 2,
   "metadata": {},
   "outputs": [],
   "source": [
    "def temp_tester(num):\n",
    "    def output_tester(x):\n",
    "        if (abs(num-x) <= 1):\n",
    "            return True\n",
    "        else:\n",
    "            return False\n",
    "    return output_tester"
   ]
  },
  {
   "cell_type": "markdown",
   "metadata": {},
   "source": [
    "### Exercise 1 - Testcases"
   ]
  },
  {
   "cell_type": "code",
   "execution_count": 6,
   "metadata": {},
   "outputs": [
    {
     "name": "stdout",
     "output_type": "stream",
     "text": [
      "True\n",
      "False\n",
      "False\n",
      "False\n",
      "False\n"
     ]
    }
   ],
   "source": [
    "human_tester = temp_tester(37)\n",
    "chicken_tester = temp_tester(41.1)\n",
    "print(chicken_tester(42)) # True -- i.e. not a fever for a chicken\n",
    "print(human_tester(42))   # False -- this would be a severe fever for a human\n",
    "print(chicken_tester(43)) # False\n",
    "print(human_tester(35))   # False -- too low\n",
    "print(human_tester(98.6)) # False -- normal in degrees F but our reference temp was in degrees C"
   ]
  },
  {
   "cell_type": "code",
   "execution_count": 7,
   "metadata": {},
   "outputs": [
    {
     "name": "stdout",
     "output_type": "stream",
     "text": [
      "False\n",
      "True\n",
      "True\n",
      "True\n",
      "False\n"
     ]
    }
   ],
   "source": [
    "special1_tester = temp_tester(100)\n",
    "special2_tester = temp_tester(23.4)\n",
    "print(special1_tester(50)) # False\n",
    "print(special1_tester(100.9))   # True\n",
    "print(special1_tester(99.5)) # True\n",
    "print(special2_tester(24))   # True\n",
    "print(special2_tester(20)) # False"
   ]
  },
  {
   "cell_type": "code",
   "execution_count": null,
   "metadata": {},
   "outputs": [],
   "source": []
  }
 ],
 "metadata": {
  "kernelspec": {
   "display_name": "Python 3",
   "language": "python",
   "name": "python3"
  },
  "language_info": {
   "codemirror_mode": {
    "name": "ipython",
    "version": 3
   },
   "file_extension": ".py",
   "mimetype": "text/x-python",
   "name": "python",
   "nbconvert_exporter": "python",
   "pygments_lexer": "ipython3",
   "version": "3.7.4"
  }
 },
 "nbformat": 4,
 "nbformat_minor": 2
}
