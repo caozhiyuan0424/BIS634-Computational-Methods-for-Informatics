{
 "cells": [
  {
   "cell_type": "code",
   "execution_count": 318,
   "metadata": {},
   "outputs": [],
   "source": [
    "import numpy as np\n",
    "import matplotlib.pyplot as plt\n",
    "\n",
    "# Function s(a, b) to evaluate the similarity score of two sequences\n",
    "def func_s(seq_matrix, seq1, seq2, i, j, match, mismatch_penalty):\n",
    "    if (seq2[i-1] == seq1[j-1]): # If two charcters to be compared are the same\n",
    "        return seq_matrix[i-1][j-1] + match\n",
    "    else: # If two charcters to be compared are different\n",
    "        return seq_matrix[i-1][j-1] - mismatch_penalty\n",
    "\n",
    "# Function max(H_{i-k, j} - W_k). Here W_k set to be linear, i.e. W_k = k*W_1\n",
    "def func_gap_i(seq_matrix, seq1, seq2, i, j, gap_penalty):\n",
    "    max_val = seq_matrix[i-1][j] - 1*gap_penalty\n",
    "    for k in range(1, i):\n",
    "        val = seq_matrix[i-k][j] - k*gap_penalty\n",
    "        if (val > max_val):\n",
    "            max_val = val\n",
    "    return max_val\n",
    "       \n",
    "# Function max(H_{i, j-k} - W_k). Here W_k set to be linear, i.e. W_k = k*W_1\n",
    "def func_gap_j(seq_matrix, seq1, seq2, i, j, gap_penalty):\n",
    "    max_val = seq_matrix[i][j-1] - 1*gap_penalty\n",
    "    for k in range(1, j):\n",
    "        val = seq_matrix[i][j-k] - k*gap_penalty\n",
    "        if (val > max_val):\n",
    "            max_val = val\n",
    "    return max_val\n",
    "\n",
    "# Generate the sequence matrix\n",
    "def gene_seq_matrix(seq1, seq2, match, gap_penalty, mismatch_penalty):\n",
    "    seq_matrix = np.zeros((len(seq2)+1, len(seq1)+1))\n",
    "    direction_matrix = np.zeros((len(seq2)+1, len(seq1)+1), dtype='str')\n",
    "    direction_matrix.fill('e')\n",
    "    for i, char1 in enumerate(seq2):\n",
    "        for j, char2 in enumerate(seq1):\n",
    "            potential_num = [func_s(seq_matrix, seq1, seq2, i+1, j+1, match, mismatch_penalty), \n",
    "                             func_gap_i(seq_matrix, seq1, seq2, i+1, j+1, gap_penalty),\n",
    "                             func_gap_j(seq_matrix, seq1, seq2, i+1, j+1, gap_penalty), \n",
    "                             0]\n",
    "            seq_matrix[i+1][j+1] = max(potential_num)\n",
    "            indx = np.argmax(potential_num)\n",
    "            num2dir = {0:'d', 1:'u', 2:'l', 3: 'e'}\n",
    "            direction_matrix[i+1][j+1] = num2dir[indx]\n",
    "    return seq_matrix, direction_matrix\n",
    "\n",
    "def find_maximum_indices(seq_matrix):\n",
    "    max_val = seq_matrix.max()\n",
    "    max_indices = []\n",
    "    for i in range(seq_matrix.shape[0]):\n",
    "        for j in range(seq_matrix.shape[1]):\n",
    "            if (seq_matrix[i][j] == max_val):\n",
    "                max_indices.append([i, j])\n",
    "    return max_indices\n",
    "    \n",
    "# I only choose one case if multiple correct answers are encountered\n",
    "def trace_back(seq_matrix, direction_matrix, i, j, seq1, seq2, subseq1='', subseq2=''):\n",
    "    score = seq_matrix.max()\n",
    "    if seq_matrix[i][j] == 0:\n",
    "        return subseq1, subseq2, score\n",
    "    else: \n",
    "        if direction_matrix[i][j] == 'd':\n",
    "            return trace_back(seq_matrix, direction_matrix, i-1, j-1, seq1, seq2, seq1[j-1]+subseq1, seq2[i-1]+subseq2)\n",
    "        elif direction_matrix[i][j] == 'l':\n",
    "            return trace_back(seq_matrix, direction_matrix, i, j-1, seq1, seq2, seq1[j-1]+subseq1, '-'+subseq2)\n",
    "        elif direction_matrix[i][j] == 'u':\n",
    "            return trace_back(seq_matrix, direction_matrix, i-1, j, seq1, seq2, '-'+subseq1, seq2[i-1]+subseq2)\n",
    "        else:\n",
    "            return trace_back(seq_matrix, direction_matrix, i-1, j-1, seq1, seq2, seq1[j-1]+subseq1, seq2[i-1]+subseq2)\n",
    "        \n",
    "def plot_matrix(matrix, seq1, seq2):\n",
    "    plt.xticks(range(len(seq1)), labels=seq1)\n",
    "    plt.yticks(range(len(seq2)), labels=seq2)\n",
    "    plt.imshow(matrix[1:, 1:], cmap='binary')\n",
    "    plt.gca().xaxis.tick_top()\n",
    "    \n",
    "\n",
    "def align(seq1, seq2, match=1, gap_penalty=1, mismatch_penalty=1):\n",
    "    seq_matrix, direction_matrix = gene_seq_matrix(seq1, seq2, match, gap_penalty, mismatch_penalty)\n",
    "    plot_matrix(seq_matrix, seq1, seq2)\n",
    "    subseq1, subseq2, score = trace_back(seq_matrix, direction_matrix, find_maximum_indices(seq_matrix)[0][0], find_maximum_indices(seq_matrix)[0][1], seq1, seq2)\n",
    "    # subseq1, subseq2, score = trace_back(seq_matrix, find_maximum_indices(seq_matrix)[0][0], find_maximum_indices(seq_matrix)[0][1], seq1, seq2, match, gap_penalty)\n",
    "    if (subseq1[0] == '-' or subseq2[0] == '-'):\n",
    "        subseq1 = subseq1[1:]\n",
    "        subseq2 = subseq2[1:]\n",
    "    return subseq1, subseq2, score\n"
   ]
  },
  {
   "cell_type": "code",
   "execution_count": 321,
   "metadata": {},
   "outputs": [
    {
     "data": {
      "text/plain": [
       "('agacccta-cgt-gac', 'aga-cctagcatcgac', 8.0)"
      ]
     },
     "execution_count": 321,
     "metadata": {},
     "output_type": "execute_result"
    },
    {
     "data": {
      "image/png": "[encoded data removed]",
      "text/plain": [
       "<Figure size 432x288 with 1 Axes>"
      ]
     },
     "metadata": {
      "needs_background": "light"
     },
     "output_type": "display_data"
    }
   ],
   "source": [
    "align('tgcatcgagaccctacgtgac', 'actagacctagcatcgac')"
   ]
  },
  {
   "cell_type": "code",
   "execution_count": 328,
   "metadata": {},
   "outputs": [
    {
     "data": {
      "text/plain": [
       "('gcatcga', 'gcatcga', 7.0)"
      ]
     },
     "execution_count": 328,
     "metadata": {},
     "output_type": "execute_result"
    },
    {
     "data": {
      "image/png": "[encoded data removed]",
      "text/plain": [
       "<Figure size 432x288 with 1 Axes>"
      ]
     },
     "metadata": {
      "needs_background": "light"
     },
     "output_type": "display_data"
    }
   ],
   "source": [
    "align('tgcatcgagaccctacgtgac', 'actagacctagcatcgac', gap_penalty=2)"
   ]
  },
  {
   "cell_type": "code",
   "execution_count": 319,
   "metadata": {},
   "outputs": [
    {
     "data": {
      "text/plain": [
       "('gtt-ac', 'gttgac', 13.0)"
      ]
     },
     "execution_count": 319,
     "metadata": {},
     "output_type": "execute_result"
    },
    {
     "data": {
      "image/png": "[encoded data removed]",
      "text/plain": [
       "<Figure size 432x288 with 1 Axes>"
      ]
     },
     "metadata": {
      "needs_background": "light"
     },
     "output_type": "display_data"
    }
   ],
   "source": [
    "align('tgttacgg', 'ggttgacta', match=3, mismatch_penalty=3, gap_penalty=2)"
   ]
  },
  {
   "cell_type": "code",
   "execution_count": 322,
   "metadata": {},
   "outputs": [
    {
     "data": {
      "text/plain": [
       "('gtt', 'gtt', 9.0)"
      ]
     },
     "execution_count": 322,
     "metadata": {},
     "output_type": "execute_result"
    },
    {
     "data": {
      "image/png": "[encoded data removed]",
      "text/plain": [
       "<Figure size 432x288 with 1 Axes>"
      ]
     },
     "metadata": {
      "needs_background": "light"
     },
     "output_type": "display_data"
    }
   ],
   "source": [
    "align('tgttacgg', 'ggttgacta', match=3, mismatch_penalty=3, gap_penalty=100)"
   ]
  },
  {
   "cell_type": "code",
   "execution_count": 326,
   "metadata": {},
   "outputs": [
    {
     "data": {
      "text/plain": [
       "('cgagaccctacgt', 'ctagacctagcat', 75.0)"
      ]
     },
     "execution_count": 326,
     "metadata": {},
     "output_type": "execute_result"
    },
    {
     "data": {
      "image/png": "[encoded data removed]",
      "text/plain": [
       "<Figure size 432x288 with 1 Axes>"
      ]
     },
     "metadata": {
      "needs_background": "light"
     },
     "output_type": "display_data"
    }
   ],
   "source": [
    "align('tgcatcgagaccctacgtgac', 'actagacctagcatcgac', match=10, gap_penalty=100)"
   ]
  },
  {
   "cell_type": "code",
   "execution_count": null,
   "metadata": {},
   "outputs": [],
   "source": []
  }
 ],
 "metadata": {
  "kernelspec": {
   "display_name": "Python 3",
   "language": "python",
   "name": "python3"
  },
  "language_info": {
   "codemirror_mode": {
    "name": "ipython",
    "version": 3
   },
   "file_extension": ".py",
   "mimetype": "text/x-python",
   "name": "python",
   "nbconvert_exporter": "python",
   "pygments_lexer": "ipython3",
   "version": "3.7.4"
  }
 },
 "nbformat": 4,
 "nbformat_minor": 2
}
