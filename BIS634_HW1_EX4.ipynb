{
 "cells": [
  {
   "cell_type": "markdown",
   "metadata": {},
   "source": [
    "# Exercise 4"
   ]
  },
  {
   "cell_type": "code",
   "execution_count": 2,
   "metadata": {},
   "outputs": [],
   "source": [
    "import xml.etree.ElementTree as ET\n",
    "from pprint import pprint as pp \n",
    "tree = ET.parse('desc2022.xml')\n",
    "root = tree.getroot()"
   ]
  },
  {
   "cell_type": "markdown",
   "metadata": {},
   "source": [
    "## Q1"
   ]
  },
  {
   "cell_type": "code",
   "execution_count": 58,
   "metadata": {},
   "outputs": [
    {
     "name": "stdout",
     "output_type": "stream",
     "text": [
      "Immune System Diseases\n"
     ]
    }
   ],
   "source": [
    "for DescriptorRecord in root:\n",
    "    if (DescriptorRecord.find('DescriptorUI').text == 'D007154'):\n",
    "        print(DescriptorRecord.find('DescriptorName').find('String').text)\n",
    "        break"
   ]
  },
  {
   "cell_type": "markdown",
   "metadata": {},
   "source": [
    "## Q2"
   ]
  },
  {
   "cell_type": "code",
   "execution_count": 138,
   "metadata": {},
   "outputs": [
    {
     "name": "stdout",
     "output_type": "stream",
     "text": [
      "D009422\n"
     ]
    }
   ],
   "source": [
    "for DescriptorRecord in root:\n",
    "    if (DescriptorRecord.find('DescriptorName').find('String').text == 'Nervous System Diseases'):\n",
    "        print(DescriptorRecord.find('DescriptorUI').text)\n",
    "        break"
   ]
  },
  {
   "cell_type": "markdown",
   "metadata": {},
   "source": [
    "## Q3"
   ]
  },
  {
   "cell_type": "code",
   "execution_count": 93,
   "metadata": {},
   "outputs": [
    {
     "name": "stdout",
     "output_type": "stream",
     "text": [
      "C20\n"
     ]
    }
   ],
   "source": [
    "# Find all tree numbers of D007154\n",
    "for DescriptorRecord in root:\n",
    "    if (DescriptorRecord.find('DescriptorUI').text == 'D007154'):\n",
    "        treenum_list = DescriptorRecord.find('TreeNumberList').findall('TreeNumber')\n",
    "        for i in range(len(treenum_list)):\n",
    "            print(treenum_list[i].text)\n",
    "        break"
   ]
  },
  {
   "cell_type": "code",
   "execution_count": 95,
   "metadata": {},
   "outputs": [
    {
     "name": "stdout",
     "output_type": "stream",
     "text": [
      "C10\n"
     ]
    }
   ],
   "source": [
    "# Find all tree numbers of Nervous System Diseases\n",
    "for DescriptorRecord in root:\n",
    "    if (DescriptorRecord.find('DescriptorName').find('String').text == 'Nervous System Diseases'):\n",
    "        treenum_list = DescriptorRecord.find('TreeNumberList').findall('TreeNumber')\n",
    "        for i in range(len(treenum_list)):\n",
    "            print(treenum_list[i].text)\n",
    "        break"
   ]
  },
  {
   "cell_type": "code",
   "execution_count": 150,
   "metadata": {},
   "outputs": [
    {
     "name": "stdout",
     "output_type": "stream",
     "text": [
      "Autoimmune Hypophysitis\n",
      "Ataxia Telangiectasia\n",
      "Diffuse Cerebral Sclerosis of Schilder\n",
      "Encephalomyelitis, Acute Disseminated\n",
      "Encephalomyelitis, Autoimmune, Experimental\n",
      "Leukoencephalitis, Acute Hemorrhagic\n",
      "Kernicterus\n",
      "Multiple Sclerosis\n",
      "Myasthenia Gravis\n",
      "Myelitis, Transverse\n",
      "Neuritis, Autoimmune, Experimental\n",
      "Neuromyelitis Optica\n",
      "Polyradiculoneuropathy\n",
      "Giant Cell Arteritis\n",
      "Uveomeningoencephalitic Syndrome\n",
      "AIDS Dementia Complex\n",
      "Lambert-Eaton Myasthenic Syndrome\n",
      "Stiff-Person Syndrome\n",
      "POEMS Syndrome\n",
      "Miller Fisher Syndrome\n",
      "Autoimmune Diseases of the Nervous System\n",
      "Guillain-Barre Syndrome\n",
      "Polyradiculoneuropathy, Chronic Inflammatory Demyelinating\n",
      "Demyelinating Autoimmune Diseases, CNS\n",
      "Vasculitis, Central Nervous System\n",
      "Multiple Sclerosis, Chronic Progressive\n",
      "Multiple Sclerosis, Relapsing-Remitting\n",
      "Myasthenia Gravis, Autoimmune, Experimental\n",
      "Nervous System Autoimmune Disease, Experimental\n",
      "Myasthenia Gravis, Neonatal\n",
      "AIDS Arteritis, Central Nervous System\n",
      "Lupus Vasculitis, Central Nervous System\n",
      "Mevalonate Kinase Deficiency\n",
      "Microscopic Polyangiitis\n",
      "Anti-N-Methyl-D-Aspartate Receptor Encephalitis\n"
     ]
    }
   ],
   "source": [
    "for DescriptorRecord in root:\n",
    "    if (DescriptorRecord.attrib['DescriptorClass'] != '3'): # DescriptorClass 3 does not have tree number (Only 2 items female and male)\n",
    "        ISD_children = False # ISD: Immune System Diseases\n",
    "        NSD_children = False # NSD: Nervous System Diseases\n",
    "        treenum_list = DescriptorRecord.find('TreeNumberList').findall('TreeNumber')\n",
    "        for i in range(len(treenum_list)):\n",
    "            if (treenum_list[i].text[0:3] == 'C20'):\n",
    "                ISD_children = True\n",
    "            if (treenum_list[i].text[0:3] == 'C10'):\n",
    "                NSD_children = True\n",
    "        if (ISD_children and NSD_children):\n",
    "            # Print tree number list for debug\n",
    "            #treenum_list = DescriptorRecord.find('TreeNumberList').findall('TreeNumber')\n",
    "            #for i in range(len(treenum_list)):\n",
    "            #    print(treenum_list[i].text)\n",
    "            # Print tree number list for debug\n",
    "            print(DescriptorRecord.find('DescriptorName').find('String').text)"
   ]
  },
  {
   "cell_type": "markdown",
   "metadata": {},
   "source": [
    "## Q4"
   ]
  },
  {
   "cell_type": "markdown",
   "metadata": {},
   "source": [
    "See README for detail"
   ]
  },
  {
   "cell_type": "markdown",
   "metadata": {},
   "source": [
    "## Q5"
   ]
  },
  {
   "cell_type": "code",
   "execution_count": 156,
   "metadata": {},
   "outputs": [
    {
     "data": {
      "text/plain": [
       "'Immune System Diseases'"
      ]
     },
     "execution_count": 156,
     "metadata": {},
     "output_type": "execute_result"
    }
   ],
   "source": [
    "# Given a DescriptorUI, returns DescriptorName\n",
    "def UI2Name(root, ui):\n",
    "    for DescriptorRecord in root:\n",
    "        if (DescriptorRecord.find('DescriptorUI').text == ui):\n",
    "            return DescriptorRecord.find('DescriptorName').find('String').text\n",
    "    \n",
    "UI2Name(root, 'D007154')"
   ]
  },
  {
   "cell_type": "code",
   "execution_count": 157,
   "metadata": {},
   "outputs": [
    {
     "data": {
      "text/plain": [
       "'D009422'"
      ]
     },
     "execution_count": 157,
     "metadata": {},
     "output_type": "execute_result"
    }
   ],
   "source": [
    "# Given a DescriptorName, returns DescriptorUI\n",
    "def Name2UI(root, name):\n",
    "    for DescriptorRecord in root:\n",
    "        if (DescriptorRecord.find('DescriptorName').find('String').text == name):\n",
    "            return DescriptorRecord.find('DescriptorUI').text\n",
    "    \n",
    "Name2UI(root, 'Nervous System Diseases')"
   ]
  },
  {
   "cell_type": "code",
   "execution_count": 190,
   "metadata": {},
   "outputs": [
    {
     "name": "stdout",
     "output_type": "stream",
     "text": [
      "Autoimmune Hypophysitis\n",
      "Ataxia Telangiectasia\n",
      "Diffuse Cerebral Sclerosis of Schilder\n",
      "Encephalomyelitis, Acute Disseminated\n",
      "Encephalomyelitis, Autoimmune, Experimental\n",
      "Leukoencephalitis, Acute Hemorrhagic\n",
      "Kernicterus\n",
      "Multiple Sclerosis\n",
      "Myasthenia Gravis\n",
      "Myelitis, Transverse\n",
      "Neuritis, Autoimmune, Experimental\n",
      "Neuromyelitis Optica\n",
      "Polyradiculoneuropathy\n",
      "Giant Cell Arteritis\n",
      "Uveomeningoencephalitic Syndrome\n",
      "AIDS Dementia Complex\n",
      "Lambert-Eaton Myasthenic Syndrome\n",
      "Stiff-Person Syndrome\n",
      "POEMS Syndrome\n",
      "Miller Fisher Syndrome\n",
      "Autoimmune Diseases of the Nervous System\n",
      "Guillain-Barre Syndrome\n",
      "Polyradiculoneuropathy, Chronic Inflammatory Demyelinating\n",
      "Demyelinating Autoimmune Diseases, CNS\n",
      "Vasculitis, Central Nervous System\n",
      "Multiple Sclerosis, Chronic Progressive\n",
      "Multiple Sclerosis, Relapsing-Remitting\n",
      "Myasthenia Gravis, Autoimmune, Experimental\n",
      "Nervous System Autoimmune Disease, Experimental\n",
      "Myasthenia Gravis, Neonatal\n",
      "AIDS Arteritis, Central Nervous System\n",
      "Lupus Vasculitis, Central Nervous System\n",
      "Mevalonate Kinase Deficiency\n",
      "Microscopic Polyangiitis\n",
      "Anti-N-Methyl-D-Aspartate Receptor Encephalitis\n"
     ]
    }
   ],
   "source": [
    "# Check whether \"long\" is the subtype of any element in \"short_list\"\n",
    "def is_child_of(long, short_list):\n",
    "    for i in range(len(short_list)):\n",
    "        if (long.text[0:len(short_list[i].text)] == short_list[i].text):\n",
    "            return True\n",
    "    return False\n",
    "\n",
    "def subtype_of_both(root, name1, name2):\n",
    "    # Find all tree numbers of name1 and name2\n",
    "    for DescriptorRecord in root:\n",
    "        if (DescriptorRecord.find('DescriptorName').find('String').text == name1):\n",
    "            treenum_list1 = DescriptorRecord.find('TreeNumberList').findall('TreeNumber')\n",
    "        if (DescriptorRecord.find('DescriptorName').find('String').text == name2):\n",
    "            treenum_list2 = DescriptorRecord.find('TreeNumberList').findall('TreeNumber')\n",
    "    # Check iteratively whether a Descriptor is the subtype of both name1 and name2\n",
    "    for DescriptorRecord in root:\n",
    "        if (DescriptorRecord.attrib['DescriptorClass'] != '3'):\n",
    "            name1_children = False\n",
    "            name2_children = False \n",
    "            treenum_list = DescriptorRecord.find('TreeNumberList').findall('TreeNumber')\n",
    "            for i in range(len(treenum_list)):\n",
    "                if is_child_of(treenum_list[i], treenum_list1):\n",
    "                    name1_children = True\n",
    "                if is_child_of(treenum_list[i], treenum_list2):\n",
    "                    name2_children = True\n",
    "            if (name1_children and name2_children):\n",
    "                print(DescriptorRecord.find('DescriptorName').find('String').text)\n",
    "\n",
    "subtype_of_both(root, 'Immune System Diseases', 'Nervous System Diseases')"
   ]
  },
  {
   "cell_type": "code",
   "execution_count": null,
   "metadata": {},
   "outputs": [],
   "source": []
  },
  {
   "cell_type": "markdown",
   "metadata": {},
   "source": [
    "# Appendix"
   ]
  },
  {
   "cell_type": "code",
   "execution_count": null,
   "metadata": {},
   "outputs": [],
   "source": [
    "# print the content of root[1]\n",
    "print(ET.tostring(root[1]).decode('utf-8'))"
   ]
  },
  {
   "cell_type": "code",
   "execution_count": null,
   "metadata": {},
   "outputs": [],
   "source": []
  }
 ],
 "metadata": {
  "kernelspec": {
   "display_name": "Python 3",
   "language": "python",
   "name": "python3"
  },
  "language_info": {
   "codemirror_mode": {
    "name": "ipython",
    "version": 3
   },
   "file_extension": ".py",
   "mimetype": "text/x-python",
   "name": "python",
   "nbconvert_exporter": "python",
   "pygments_lexer": "ipython3",
   "version": "3.7.4"
  }
 },
 "nbformat": 4,
 "nbformat_minor": 2
}
